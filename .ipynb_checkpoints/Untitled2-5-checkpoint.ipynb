{
 "cells": [
  {
   "cell_type": "markdown",
   "metadata": {},
   "source": [
    "## Data 300 Project \n"
   ]
  },
  {
   "cell_type": "code",
   "execution_count": 1,
   "metadata": {},
   "outputs": [
    {
     "name": "stderr",
     "output_type": "stream",
     "text": [
      "/Users/sanskriti/opt/anaconda3/lib/python3.8/site-packages/pandas/core/computation/expressions.py:20: UserWarning: Pandas requires version '2.7.3' or newer of 'numexpr' (version '2.7.1' currently installed).\n",
      "  from pandas.core.computation.check import NUMEXPR_INSTALLED\n"
     ]
    }
   ],
   "source": [
    "import pandas as pd \n",
    "\n",
    "# import the dataset \n",
    "filepath = \"/Users/sanskriti/Desktop/Data-300-Project-/product_info.csv\"\n",
    "df = pd.read_csv(filepath)\n"
   ]
  },
  {
   "cell_type": "code",
   "execution_count": 2,
   "metadata": {},
   "outputs": [],
   "source": [
    "#filter only skin care \n",
    "skincare = df[df[\"primary_category\"]==\"Skincare\"]"
   ]
  },
  {
   "cell_type": "code",
   "execution_count": 3,
   "metadata": {},
   "outputs": [
    {
     "name": "stdout",
     "output_type": "stream",
     "text": [
      "   product_id                                       product_name  brand_id  \\\n",
      "89    P439055               GENIUS Sleeping Collagen Moisturizer      6018   \n",
      "90    P421277                       GENIUS Liquid Collagen Serum      6018   \n",
      "91    P467602            Triple Algae Eye Renewal Balm Eye Cream      6018   \n",
      "92    P432045               GENIUS Liquid Collagen Lip Treatment      6018   \n",
      "93    P311143  SUBLIME DEFENSE Ultra Lightweight UV Defense F...      6018   \n",
      "\n",
      "   brand_name  loves_count  rating  reviews           size variation_type  \\\n",
      "89   Algenist        33910  4.5413   1321.0    2 oz/ 60 mL           Size   \n",
      "90   Algenist        67870  4.0259   1159.0  1 oz  / 30 mL           Size   \n",
      "91   Algenist        17890  4.5306   1142.0            NaN            NaN   \n",
      "92   Algenist        44448  3.8721    649.0  .5 oz / 15 mL           Size   \n",
      "93   Algenist        27278  4.4134    508.0           1 oz           Size   \n",
      "\n",
      "   variation_value  ... online_only out_of_stock  sephora_exclusive  \\\n",
      "89     2 oz/ 60 mL  ...           0            0                  1   \n",
      "90   1 oz  / 30 mL  ...           0            0                  1   \n",
      "91             NaN  ...           0            0                  1   \n",
      "92   .5 oz / 15 mL  ...           0            0                  1   \n",
      "93            1 oz  ...           0            0                  0   \n",
      "\n",
      "                                           highlights  primary_category  \\\n",
      "89  ['Vegan', 'Good for: Loss of firmness', 'Colla...          Skincare   \n",
      "90  ['Vegan', 'Good for: Loss of firmness', 'Colla...          Skincare   \n",
      "91                                                NaN          Skincare   \n",
      "92  ['Vegan', 'Good for: Loss of firmness', 'Plump...          Skincare   \n",
      "93  ['Vegan', 'Hypoallergenic', 'UV Protection', '...          Skincare   \n",
      "\n",
      "        secondary_category        tertiary_category  child_count  \\\n",
      "89            Moisturizers             Moisturizers            0   \n",
      "90              Treatments              Face Serums            1   \n",
      "91                Eye Care  Eye Creams & Treatments            0   \n",
      "92  Lip Balms & Treatments                      NaN            0   \n",
      "93               Sunscreen           Face Sunscreen            0   \n",
      "\n",
      "    child_max_price  child_min_price  \n",
      "89              NaN              NaN  \n",
      "90             25.0             25.0  \n",
      "91              NaN              NaN  \n",
      "92              NaN              NaN  \n",
      "93              NaN              NaN  \n",
      "\n",
      "[5 rows x 27 columns]\n"
     ]
    }
   ],
   "source": [
    "# View dataset \n",
    "print(skincare.head())"
   ]
  },
  {
   "cell_type": "code",
   "execution_count": 4,
   "metadata": {},
   "outputs": [],
   "source": [
    "# saved cleaned dataset \n",
    "cleaned_fp = \"/Users/sanskriti/Desktop/Data-300-Project-/filtereddata.csv\"\n",
    "skincare.to_csv(cleaned_fp, index=False)"
   ]
  },
  {
   "cell_type": "code",
   "execution_count": null,
   "metadata": {},
   "outputs": [],
   "source": []
  }
 ],
 "metadata": {
  "kernelspec": {
   "display_name": "Python 3",
   "language": "python",
   "name": "python3"
  },
  "language_info": {
   "codemirror_mode": {
    "name": "ipython",
    "version": 3
   },
   "file_extension": ".py",
   "mimetype": "text/x-python",
   "name": "python",
   "nbconvert_exporter": "python",
   "pygments_lexer": "ipython3",
   "version": "3.8.3"
  }
 },
 "nbformat": 4,
 "nbformat_minor": 4
}
